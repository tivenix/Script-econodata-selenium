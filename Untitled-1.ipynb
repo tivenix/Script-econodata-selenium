{
 "cells": [
  {
   "cell_type": "code",
   "execution_count": 1,
   "metadata": {},
   "outputs": [],
   "source": [
    "#Importando bibliotecas\n",
    "from selenium.webdriver.common.by import By\n",
    "from selenium.webdriver import Chrome\n",
    "from selenium.webdriver.chrome.service import Service\n",
    "import pandas as pd\n",
    "import numpy as np\n",
    "#from devtools_ai.selenium import SmartDriver\n",
    "from selenium import webdriver\n",
    "from selenium.webdriver.common.keys import Keys\n",
    "from selenium.webdriver.common.by import By\n",
    "from selenium.webdriver.support import expected_conditions as EC\n",
    "from selenium.webdriver.support.wait import WebDriverWait\n",
    "from selenium.common.exceptions import NoSuchElementException\n",
    "from selenium.common.exceptions import ElementClickInterceptedException\n",
    "from selenium.common.exceptions import StaleElementReferenceException\n",
    "import time\n",
    "import re\n",
    "from bs4 import BeautifulSoup\n",
    "#chrome_options = webdriver.ChromeOptions()\n",
    "#chrome_options.add_experimental_option(\"prefs\",prefs)\n",
    "#prefs = {\n",
    "#  \"profile.default_content_setting_values.cookies\": 2,\n",
    "#  \"profile.block_third_party_cookies\": True}"
   ]
  },
  {
   "cell_type": "code",
   "execution_count": 2,
   "metadata": {},
   "outputs": [],
   "source": [
    "df = pd.read_excel(\"ECONODATA.xlsx\",header=0)\n",
    "df\n",
    "CNPJ = df['CPF/CNPJ']"
   ]
  },
  {
   "cell_type": "code",
   "execution_count": 3,
   "metadata": {},
   "outputs": [
    {
     "data": {
      "text/plain": [
       "'97.546.023/0001-38'"
      ]
     },
     "execution_count": 3,
     "metadata": {},
     "output_type": "execute_result"
    }
   ],
   "source": [
    "CNPJ[1]"
   ]
  },
  {
   "cell_type": "code",
   "execution_count": 17,
   "metadata": {},
   "outputs": [
    {
     "name": "stderr",
     "output_type": "stream",
     "text": [
      "C:\\Users\\phili\\AppData\\Local\\Temp\\ipykernel_12680\\1813174745.py:2: DeprecationWarning: executable_path has been deprecated, please pass in a Service object\n",
      "  driver = webdriver.Chrome(PATH) #navegador\n"
     ]
    },
    {
     "name": "stdout",
     "output_type": "stream",
     "text": [
      "EXCLUIDO desde 01/01/2018\n",
      "None 97.546.128/0001-97 antes do loop\n"
     ]
    },
    {
     "ename": "StaleElementReferenceException",
     "evalue": "Message: stale element reference: element is not attached to the page document\n  (Session info: chrome=109.0.5414.75)\nStacktrace:\nBacktrace:\n\t(No symbol) [0x00E16643]\n\t(No symbol) [0x00DABE21]\n\t(No symbol) [0x00CADA9D]\n\t(No symbol) [0x00CB09E4]\n\t(No symbol) [0x00CB08AD]\n\t(No symbol) [0x00CB0B30]\n\t(No symbol) [0x00CE3150]\n\t(No symbol) [0x00CD69AD]\n\t(No symbol) [0x00CFFD7C]\n\t(No symbol) [0x00CD641F]\n\t(No symbol) [0x00D000D4]\n\t(No symbol) [0x00D16B09]\n\t(No symbol) [0x00CFFB76]\n\t(No symbol) [0x00CD49C1]\n\t(No symbol) [0x00CD5E5D]\n\tGetHandleVerifier [0x0108A142+2497106]\n\tGetHandleVerifier [0x010B85D3+2686691]\n\tGetHandleVerifier [0x010BBB9C+2700460]\n\tGetHandleVerifier [0x00EC3B10+635936]\n\t(No symbol) [0x00DB4A1F]\n\t(No symbol) [0x00DBA418]\n\t(No symbol) [0x00DBA505]\n\t(No symbol) [0x00DC508B]\n\tBaseThreadInitThunk [0x768D6BD9+25]\n\tRtlGetFullPathName_UEx [0x77618FD2+1218]\n\tRtlGetFullPathName_UEx [0x77618F9D+1165]\n",
     "output_type": "error",
     "traceback": [
      "\u001b[1;31m---------------------------------------------------------------------------\u001b[0m",
      "\u001b[1;31mStaleElementReferenceException\u001b[0m            Traceback (most recent call last)",
      "Cell \u001b[1;32mIn [17], line 37\u001b[0m\n\u001b[0;32m     35\u001b[0m search2\u001b[39m.\u001b[39msend_keys(Keys\u001b[39m.\u001b[39mENTER)\n\u001b[0;32m     36\u001b[0m driver\u001b[39m.\u001b[39mimplicitly_wait(\u001b[39m2\u001b[39m)\n\u001b[1;32m---> 37\u001b[0m buttonlog\u001b[39m.\u001b[39;49mclick()\n\u001b[0;32m     38\u001b[0m \u001b[39mprint\u001b[39m(CNPJ[x],opt)\n",
      "File \u001b[1;32mc:\\Users\\phili\\AppData\\Local\\Programs\\Python\\Python310\\lib\\site-packages\\selenium\\webdriver\\remote\\webelement.py:88\u001b[0m, in \u001b[0;36mWebElement.click\u001b[1;34m(self)\u001b[0m\n\u001b[0;32m     86\u001b[0m \u001b[39mdef\u001b[39;00m \u001b[39mclick\u001b[39m(\u001b[39mself\u001b[39m) \u001b[39m-\u001b[39m\u001b[39m>\u001b[39m \u001b[39mNone\u001b[39;00m:\n\u001b[0;32m     87\u001b[0m     \u001b[39m\"\"\"Clicks the element.\"\"\"\u001b[39;00m\n\u001b[1;32m---> 88\u001b[0m     \u001b[39mself\u001b[39;49m\u001b[39m.\u001b[39;49m_execute(Command\u001b[39m.\u001b[39;49mCLICK_ELEMENT)\n",
      "File \u001b[1;32mc:\\Users\\phili\\AppData\\Local\\Programs\\Python\\Python310\\lib\\site-packages\\selenium\\webdriver\\remote\\webelement.py:396\u001b[0m, in \u001b[0;36mWebElement._execute\u001b[1;34m(self, command, params)\u001b[0m\n\u001b[0;32m    394\u001b[0m     params \u001b[39m=\u001b[39m {}\n\u001b[0;32m    395\u001b[0m params[\u001b[39m'\u001b[39m\u001b[39mid\u001b[39m\u001b[39m'\u001b[39m] \u001b[39m=\u001b[39m \u001b[39mself\u001b[39m\u001b[39m.\u001b[39m_id\n\u001b[1;32m--> 396\u001b[0m \u001b[39mreturn\u001b[39;00m \u001b[39mself\u001b[39;49m\u001b[39m.\u001b[39;49m_parent\u001b[39m.\u001b[39;49mexecute(command, params)\n",
      "File \u001b[1;32mc:\\Users\\phili\\AppData\\Local\\Programs\\Python\\Python310\\lib\\site-packages\\selenium\\webdriver\\remote\\webdriver.py:428\u001b[0m, in \u001b[0;36mWebDriver.execute\u001b[1;34m(self, driver_command, params)\u001b[0m\n\u001b[0;32m    426\u001b[0m response \u001b[39m=\u001b[39m \u001b[39mself\u001b[39m\u001b[39m.\u001b[39mcommand_executor\u001b[39m.\u001b[39mexecute(driver_command, params)\n\u001b[0;32m    427\u001b[0m \u001b[39mif\u001b[39;00m response:\n\u001b[1;32m--> 428\u001b[0m     \u001b[39mself\u001b[39;49m\u001b[39m.\u001b[39;49merror_handler\u001b[39m.\u001b[39;49mcheck_response(response)\n\u001b[0;32m    429\u001b[0m     response[\u001b[39m'\u001b[39m\u001b[39mvalue\u001b[39m\u001b[39m'\u001b[39m] \u001b[39m=\u001b[39m \u001b[39mself\u001b[39m\u001b[39m.\u001b[39m_unwrap_value(\n\u001b[0;32m    430\u001b[0m         response\u001b[39m.\u001b[39mget(\u001b[39m'\u001b[39m\u001b[39mvalue\u001b[39m\u001b[39m'\u001b[39m, \u001b[39mNone\u001b[39;00m))\n\u001b[0;32m    431\u001b[0m     \u001b[39mreturn\u001b[39;00m response\n",
      "File \u001b[1;32mc:\\Users\\phili\\AppData\\Local\\Programs\\Python\\Python310\\lib\\site-packages\\selenium\\webdriver\\remote\\errorhandler.py:243\u001b[0m, in \u001b[0;36mErrorHandler.check_response\u001b[1;34m(self, response)\u001b[0m\n\u001b[0;32m    241\u001b[0m         alert_text \u001b[39m=\u001b[39m value[\u001b[39m'\u001b[39m\u001b[39malert\u001b[39m\u001b[39m'\u001b[39m]\u001b[39m.\u001b[39mget(\u001b[39m'\u001b[39m\u001b[39mtext\u001b[39m\u001b[39m'\u001b[39m)\n\u001b[0;32m    242\u001b[0m     \u001b[39mraise\u001b[39;00m exception_class(message, screen, stacktrace, alert_text)  \u001b[39m# type: ignore[call-arg]  # mypy is not smart enough here\u001b[39;00m\n\u001b[1;32m--> 243\u001b[0m \u001b[39mraise\u001b[39;00m exception_class(message, screen, stacktrace)\n",
      "\u001b[1;31mStaleElementReferenceException\u001b[0m: Message: stale element reference: element is not attached to the page document\n  (Session info: chrome=109.0.5414.75)\nStacktrace:\nBacktrace:\n\t(No symbol) [0x00E16643]\n\t(No symbol) [0x00DABE21]\n\t(No symbol) [0x00CADA9D]\n\t(No symbol) [0x00CB09E4]\n\t(No symbol) [0x00CB08AD]\n\t(No symbol) [0x00CB0B30]\n\t(No symbol) [0x00CE3150]\n\t(No symbol) [0x00CD69AD]\n\t(No symbol) [0x00CFFD7C]\n\t(No symbol) [0x00CD641F]\n\t(No symbol) [0x00D000D4]\n\t(No symbol) [0x00D16B09]\n\t(No symbol) [0x00CFFB76]\n\t(No symbol) [0x00CD49C1]\n\t(No symbol) [0x00CD5E5D]\n\tGetHandleVerifier [0x0108A142+2497106]\n\tGetHandleVerifier [0x010B85D3+2686691]\n\tGetHandleVerifier [0x010BBB9C+2700460]\n\tGetHandleVerifier [0x00EC3B10+635936]\n\t(No symbol) [0x00DB4A1F]\n\t(No symbol) [0x00DBA418]\n\t(No symbol) [0x00DBA505]\n\t(No symbol) [0x00DC508B]\n\tBaseThreadInitThunk [0x768D6BD9+25]\n\tRtlGetFullPathName_UEx [0x77618FD2+1218]\n\tRtlGetFullPathName_UEx [0x77618F9D+1165]\n"
     ]
    }
   ],
   "source": [
    "PATH = \"C:\\Program Files (x86)\\chromedriver.exe\" #local chromedriver.exe\n",
    "driver = webdriver.Chrome(PATH) #navegador\n",
    "driver.get(\"https://www.econodata.com.br/consulta-empresa/\") #url site\n",
    "driver.maximize_window()\n",
    "WebDriverWait(driver,10).until(EC.visibility_of_element_located((By.XPATH, \"/html/body/div[2]/div/div/div[2]/div/div[1]/div/div/div[2]/div/div/div[2]/div[2]/form/div[1]/div/input\")))\n",
    "x = 0\n",
    "\n",
    "#Barra de pesquisa\n",
    "searchbar = driver.find_element(By.XPATH, \"/html/body/div[2]/div/div/div[2]/div/div[1]/div/div/div[2]/div/div/div[2]/div[2]/form/div[1]/div/input\")\n",
    "searchbar.send_keys(CNPJ[x])\n",
    "\n",
    "\n",
    "#Botão de pesquisar\n",
    "searchbutton = driver.find_element(By.XPATH, \"/html/body/div[2]/div/div/div[2]/div/div[1]/div/div/div[2]/div/div/div[2]/div[2]/form/div[2]/button\")\n",
    "#searchbutton.click()\n",
    "searchbutton.send_keys(Keys.ENTER)\n",
    "#Entrar na pagina da empresa\n",
    "waitbuttonlog = WebDriverWait(driver,10).until(EC.presence_of_element_located((By.XPATH, \"/html/body/div[2]/div/div/div[2]/div/div[3]/div[2]/div/div[2]/div/div/div/div/div/div/div/div/table/tbody/tr/td[5]/a\")))\n",
    "waitbuttonlog             \n",
    "                                                               \n",
    "buttonlog = driver.find_element(By.XPATH, \"/html/body/div[2]/div/div/div[2]/div/div[3]/div[2]/div/div[2]/div/div/div/div/div/div/div/div/table/tbody/tr/td[5]/a/img\")\n",
    "#buttonlog.click()\n",
    "\n",
    "buttonlog1 = buttonlog.send_keys(Keys.ENTER)\n",
    "WebDriverWait(driver,10).until(EC.visibility_of_element_located((By.XPATH, \"/html/body/div[2]/div/div/div[2]/div/div/div[2]/div/div/div[1]/div[1]/div[5]/div/div[2]/div/div/div[9]/div[2]\")))\n",
    "\n",
    "opt = print(driver.find_element(By.XPATH, \"/html/body/div[2]/div/div/div[2]/div/div/div[2]/div/div/div[1]/div[1]/div[5]/div/div[2]/div/div/div[9]/div[2]\").text)\n",
    "print(opt,CNPJ[x],\"antes do loop\")\n",
    "\n",
    "search2 = driver.find_element(By.XPATH, \"/html/body/div[2]/div/div/div[1]/div[3]/div/div/div[2]/div/div/div/input\")\n",
    "button = driver.find_element(By.XPATH,\"/html/body/div[2]/div/div/div[1]/div[3]/div/div/div[2]/div/div/div/button\")\n",
    "for x in range(1,len(CNPJ),1):\n",
    "    search2.send_keys(CNPJ[x+1])\n",
    "    driver.implicitly_wait(1)\n",
    "    search2.send_keys(Keys.ENTER)\n",
    "    driver.implicitly_wait(2)\n",
    "    buttonlog.click()\n",
    "    print(CNPJ[x],opt)\n",
    "    #if not search2.is_enabled():\n",
    "        #searchbar.send_keys(CNPJ[x+1])\n",
    "        #searchbutton.send_keys(Keys.ENTER)\n",
    "        #print(CNPJ[x],opt)\n",
    "\n"
   ]
  }
 ],
 "metadata": {
  "kernelspec": {
   "display_name": "Python 3",
   "language": "python",
   "name": "python3"
  },
  "language_info": {
   "codemirror_mode": {
    "name": "ipython",
    "version": 3
   },
   "file_extension": ".py",
   "mimetype": "text/x-python",
   "name": "python",
   "nbconvert_exporter": "python",
   "pygments_lexer": "ipython3",
   "version": "3.10.6"
  },
  "orig_nbformat": 4,
  "vscode": {
   "interpreter": {
    "hash": "2e9a2dbc51607f973d907a8a37a429e79fe4f13f959c934dc2081d8dac3e8f28"
   }
  }
 },
 "nbformat": 4,
 "nbformat_minor": 2
}
