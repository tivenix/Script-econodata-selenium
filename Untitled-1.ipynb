{
 "cells": [
  {
   "cell_type": "code",
   "execution_count": null,
   "metadata": {},
   "outputs": [],
   "source": [
    "#Importando bibliotecas\n",
    "from selenium.webdriver.common.by import By\n",
    "from selenium.webdriver import Chrome\n",
    "from selenium.webdriver.chrome.service import Service\n",
    "import pandas as pd\n",
    "import numpy as np\n",
    "#from devtools_ai.selenium import SmartDriver\n",
    "from selenium import webdriver\n",
    "from selenium.webdriver.common.keys import Keys\n",
    "from selenium.webdriver.common.by import By\n",
    "from selenium.webdriver.support import expected_conditions as EC\n",
    "from selenium.webdriver.support.wait import WebDriverWait\n",
    "from selenium.common.exceptions import NoSuchElementException\n",
    "from selenium.common.exceptions import ElementClickInterceptedException\n",
    "from selenium.common.exceptions import StaleElementReferenceException\n",
    "import time\n",
    "import re\n",
    "from bs4 import BeautifulSoup\n",
    "#chrome_options = webdriver.ChromeOptions()\n",
    "#chrome_options.add_experimental_option(\"prefs\",prefs)\n",
    "#prefs = {\n",
    "#  \"profile.default_content_setting_values.cookies\": 2,\n",
    "#  \"profile.block_third_party_cookies\": True}"
   ]
  },
  {
   "cell_type": "code",
   "execution_count": null,
   "metadata": {},
   "outputs": [],
   "source": [
    "df = pd.read_excel(\"ECONODATA.xlsx\",header=0)\n",
    "df\n",
    "CNPJ = df['CPF/CNPJ']"
   ]
  },
  {
   "cell_type": "code",
   "execution_count": null,
   "metadata": {},
   "outputs": [],
   "source": [
    "CNPJ[1]"
   ]
  },
  {
   "cell_type": "code",
   "execution_count": null,
   "metadata": {},
   "outputs": [],
   "source": [
    "PATH = \"C:\\Program Files (x86)\\chromedriver.exe\" #local chromedriver.exe\n",
    "driver = webdriver.Chrome(PATH) #navegador\n",
    "driver.get(\"https://www.econodata.com.br/consulta-empresa/\") #url site\n",
    "driver.maximize_window()\n",
    "WebDriverWait(driver,10).until(EC.visibility_of_element_located((By.XPATH, \"/html/body/div[2]/div/div/div[2]/div/div[1]/div/div/div[2]/div/div/div[2]/div[2]/form/div[1]/div/input\")))\n",
    "x = 0\n",
    "\n",
    "#Barra de pesquisa\n",
    "searchbar = driver.find_element(By.XPATH, \"/html/body/div[2]/div/div/div[2]/div/div[1]/div/div/div[2]/div/div/div[2]/div[2]/form/div[1]/div/input\")\n",
    "searchbar.send_keys(CNPJ[x])\n",
    "\n",
    "\n",
    "#Botão de pesquisar\n",
    "searchbutton = driver.find_element(By.XPATH, \"/html/body/div[2]/div/div/div[2]/div/div[1]/div/div/div[2]/div/div/div[2]/div[2]/form/div[2]/button\")\n",
    "#searchbutton.click()\n",
    "searchbutton.send_keys(Keys.ENTER)\n",
    "#Entrar na pagina da empresa\n",
    "waitbuttonlog = WebDriverWait(driver,10).until(EC.presence_of_element_located((By.XPATH, \"/html/body/div[2]/div/div/div[2]/div/div[3]/div[2]/div/div[2]/div/div/div/div/div/div/div/div/table/tbody/tr/td[5]/a\")))\n",
    "waitbuttonlog             \n",
    "                                                               \n",
    "buttonlog = driver.find_element(By.XPATH, \"/html/body/div[2]/div/div/div[2]/div/div[3]/div[2]/div/div[2]/div/div/div/div/div/div/div/div/table/tbody/tr/td[5]/a\")\n",
    "#buttonlog.click()\n",
    "\n",
    "buttonlog1 = buttonlog.send_keys(Keys.ENTER)\n",
    "WebDriverWait(driver,10).until(EC.visibility_of_element_located((By.XPATH, \"/html/body/div[2]/div/div/div[2]/div/div/div[2]/div/div/div[1]/div[1]/div[5]/div/div[2]/div/div/div[9]/div[2]\")))\n",
    "\n",
    "opt = print(driver.find_element(By.XPATH, \"/html/body/div[2]/div/div/div[2]/div/div/div[2]/div/div/div[1]/div[1]/div[5]/div/div[2]/div/div/div[9]/div[2]\").text)\n",
    "print(opt,CNPJ[x],\"antes do loop\")\n",
    "\n",
    "search2 = driver.find_element(By.XPATH, \"/html/body/div[2]/div/div/div[1]/div[3]/div/div/div[2]/div/div/div/input\")\n",
    "button = driver.find_element(By.XPATH,\"/html/body/div[2]/div/div/div[1]/div[3]/div/div/div[2]/div/div/div/button\")\n",
    "for x in range(1,len(CNPJ),1):\n",
    "    search2.send_keys(CNPJ[x+1])\n",
    "    driver.implicitly_wait(1)\n",
    "    search2.send_keys(Keys.ENTER)\n",
    "    #driver.implicitly_wait(2)\n",
    "    WebDriverWait(driver,3).until(EC.element_to_be_clickable(By.XPATH, \"/html/body/div[2]/div/div/div[2]/div/div[3]/div[2]/div/div[2]/div/div/div/div/div/div/div/div/table/tbody/tr/td[5]/a\"))\n",
    "    buttonlog.click()\n",
    "    print(CNPJ[x],opt)\n",
    "    #if not search2.is_enabled():\n",
    "        #searchbar.send_keys(CNPJ[x+1])\n",
    "        #searchbutton.send_keys(Keys.ENTER)\n",
    "        #print(CNPJ[x],opt)\n",
    "\n"
   ]
  }
 ],
 "metadata": {
  "kernelspec": {
   "display_name": "Python 3",
   "language": "python",
   "name": "python3"
  },
  "language_info": {
   "codemirror_mode": {
    "name": "ipython",
    "version": 3
   },
   "file_extension": ".py",
   "mimetype": "text/x-python",
   "name": "python",
   "nbconvert_exporter": "python",
   "pygments_lexer": "ipython3",
   "version": "3.10.6 (tags/v3.10.6:9c7b4bd, Aug  1 2022, 21:53:49) [MSC v.1932 64 bit (AMD64)]"
  },
  "orig_nbformat": 4,
  "vscode": {
   "interpreter": {
    "hash": "2e9a2dbc51607f973d907a8a37a429e79fe4f13f959c934dc2081d8dac3e8f28"
   }
  }
 },
 "nbformat": 4,
 "nbformat_minor": 2
}
